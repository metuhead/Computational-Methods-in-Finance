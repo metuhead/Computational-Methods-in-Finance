{
 "cells": [
  {
   "cell_type": "code",
   "execution_count": null,
   "metadata": {},
   "outputs": [],
   "source": [
    "### Muhammet Furkan Isik   05/02/2021  HW4/FE 621-SIT "
   ]
  },
  {
   "cell_type": "code",
   "execution_count": 1,
   "metadata": {},
   "outputs": [],
   "source": [
    "import numpy as np\n",
    "import pandas as pd\n",
    "import time \n",
    "from scipy.stats import norm\n",
    "import matplotlib.pyplot as plt"
   ]
  },
  {
   "cell_type": "markdown",
   "metadata": {},
   "source": [
    "# Problem 1"
   ]
  },
  {
   "cell_type": "markdown",
   "metadata": {},
   "source": [
    "## (a) Monte Carlo Valuation of European Call Option"
   ]
  },
  {
   "cell_type": "code",
   "execution_count": 13,
   "metadata": {},
   "outputs": [],
   "source": [
    "def MCEU(K,T,S,sig,r,div,N,M,optype):\n",
    "    \n",
    "    start=time.time()\n",
    "    \n",
    "    dt=T/N\n",
    "    \n",
    "    # risk neutral drift \n",
    "    nudt= (r-div-0.5*sig**2)*dt\n",
    "    \n",
    "    sigsdt=sig*np.sqrt(dt)\n",
    "    \n",
    "    lnS=np.log(S)\n",
    "    \n",
    "    \n",
    "    sum_CT=0\n",
    "    sum_CT2=0\n",
    "    \n",
    "    lnSt=np.zeros((M,N+1))\n",
    "    \n",
    "    #lnSt[0,0]= lnS\n",
    "    \n",
    "    ST=np.zeros((M,1))\n",
    "    \n",
    "    e=np.zeros((M,N))\n",
    "    \n",
    "    for  j in range(0,M):\n",
    "        \n",
    "        lnSt[j,0]=lnS\n",
    "        \n",
    "        \n",
    "        \n",
    "        for i in range(1,N+1):\n",
    "            \n",
    "            \n",
    "            e=np.random.normal(0,1,1)\n",
    "            \n",
    "            lnSt[j,i]=lnSt[j,i-1]+ nudt+ sigsdt*e\n",
    "            \n",
    "        #return lnSt\n",
    "        \n",
    "        ST[j]= np.exp(lnSt[j,i])\n",
    "        \n",
    "        #return ST\n",
    "        \n",
    "        \n",
    "        if optype== \"c\":\n",
    "                   \n",
    "        \n",
    "            CT= max(0,ST[j]-K) \n",
    "            \n",
    "        elif optype== \"p\":\n",
    "            \n",
    "            \n",
    "            CT= max(0,K-ST[j])        \n",
    "        \n",
    "        \n",
    "\n",
    "        \n",
    "        sum_CT= sum_CT+ CT\n",
    "        \n",
    "        sum_CT2= sum_CT2 + CT*CT\n",
    "        \n",
    "    \n",
    "    #return lnSt\n",
    "    #return ST   \n",
    "        \n",
    "\n",
    "    call_value= float(sum_CT/M*np.exp(-r*T))\n",
    "    \n",
    "    SD= np.sqrt( (sum_CT2- sum_CT/M)*np.exp(-2*r*T)/ (M-1) )\n",
    "    \n",
    "    SE= float(SD/ np.sqrt(M))\n",
    "    \n",
    "    end=time.time()\n",
    "    \n",
    "    duration=end-start\n",
    "    \n",
    "    return call_value, SE, duration \n",
    "\n",
    "    #return SD\n",
    "\n",
    "    #return SE"
   ]
  },
  {
   "cell_type": "markdown",
   "metadata": {},
   "source": [
    "### Calculate call value"
   ]
  },
  {
   "cell_type": "code",
   "execution_count": 14,
   "metadata": {},
   "outputs": [
    {
     "data": {
      "text/plain": [
       "(10.034012917312175, 1.715842946565834, 0.014039754867553711)"
      ]
     },
     "execution_count": 14,
     "metadata": {},
     "output_type": "execute_result"
    }
   ],
   "source": [
    "a=MCEU(K=100,T=1,S=100,sig=0.2,r=0.06,div=0.03,N=10,M=100,optype=\"c\")\n",
    "a"
   ]
  },
  {
   "cell_type": "code",
   "execution_count": 15,
   "metadata": {},
   "outputs": [
    {
     "data": {
      "text/html": [
       "<div>\n",
       "<style scoped>\n",
       "    .dataframe tbody tr th:only-of-type {\n",
       "        vertical-align: middle;\n",
       "    }\n",
       "\n",
       "    .dataframe tbody tr th {\n",
       "        vertical-align: top;\n",
       "    }\n",
       "\n",
       "    .dataframe thead th {\n",
       "        text-align: right;\n",
       "    }\n",
       "</style>\n",
       "<table border=\"1\" class=\"dataframe\">\n",
       "  <thead>\n",
       "    <tr style=\"text-align: right;\">\n",
       "      <th></th>\n",
       "      <th>0</th>\n",
       "    </tr>\n",
       "  </thead>\n",
       "  <tbody>\n",
       "    <tr>\n",
       "      <th>0</th>\n",
       "      <td>10.034013</td>\n",
       "    </tr>\n",
       "    <tr>\n",
       "      <th>1</th>\n",
       "      <td>1.715843</td>\n",
       "    </tr>\n",
       "    <tr>\n",
       "      <th>2</th>\n",
       "      <td>0.014040</td>\n",
       "    </tr>\n",
       "  </tbody>\n",
       "</table>\n",
       "</div>"
      ],
      "text/plain": [
       "           0\n",
       "0  10.034013\n",
       "1   1.715843\n",
       "2   0.014040"
      ]
     },
     "execution_count": 15,
     "metadata": {},
     "output_type": "execute_result"
    }
   ],
   "source": [
    "pd.DataFrame(a)"
   ]
  },
  {
   "cell_type": "code",
   "execution_count": 16,
   "metadata": {},
   "outputs": [
    {
     "data": {
      "text/plain": [
       "(6.498896116354739, 1.1452016217745051, 0.013765811920166016)"
      ]
     },
     "execution_count": 16,
     "metadata": {},
     "output_type": "execute_result"
    }
   ],
   "source": [
    "b=MCEU(K=100,T=1,S=100,sig=0.2,r=0.06,div=0.03,N=10,M=100,optype=\"p\")\n",
    "b"
   ]
  },
  {
   "cell_type": "code",
   "execution_count": 17,
   "metadata": {},
   "outputs": [
    {
     "data": {
      "text/html": [
       "<div>\n",
       "<style scoped>\n",
       "    .dataframe tbody tr th:only-of-type {\n",
       "        vertical-align: middle;\n",
       "    }\n",
       "\n",
       "    .dataframe tbody tr th {\n",
       "        vertical-align: top;\n",
       "    }\n",
       "\n",
       "    .dataframe thead th {\n",
       "        text-align: right;\n",
       "    }\n",
       "</style>\n",
       "<table border=\"1\" class=\"dataframe\">\n",
       "  <thead>\n",
       "    <tr style=\"text-align: right;\">\n",
       "      <th></th>\n",
       "      <th>0</th>\n",
       "    </tr>\n",
       "  </thead>\n",
       "  <tbody>\n",
       "    <tr>\n",
       "      <th>0</th>\n",
       "      <td>6.498896</td>\n",
       "    </tr>\n",
       "    <tr>\n",
       "      <th>1</th>\n",
       "      <td>1.145202</td>\n",
       "    </tr>\n",
       "    <tr>\n",
       "      <th>2</th>\n",
       "      <td>0.013766</td>\n",
       "    </tr>\n",
       "  </tbody>\n",
       "</table>\n",
       "</div>"
      ],
      "text/plain": [
       "          0\n",
       "0  6.498896\n",
       "1  1.145202\n",
       "2  0.013766"
      ]
     },
     "execution_count": 17,
     "metadata": {},
     "output_type": "execute_result"
    }
   ],
   "source": [
    "pd.DataFrame(b)"
   ]
  },
  {
   "cell_type": "markdown",
   "metadata": {},
   "source": [
    "# (b) Monte Carlo Valuation "
   ]
  },
  {
   "cell_type": "markdown",
   "metadata": {},
   "source": [
    "## Antithetic Variance Reduction"
   ]
  },
  {
   "cell_type": "code",
   "execution_count": 18,
   "metadata": {},
   "outputs": [],
   "source": [
    "def MCAV(K,T,S,sig,r,div,N,M,optype):\n",
    "    \n",
    "    start=time.time()\n",
    "    \n",
    "    dt=T/N\n",
    "    \n",
    "    nudt= (r-div-0.5*sig**2)*dt\n",
    "    \n",
    "    sigsdt= sig*np.sqrt(dt)\n",
    "    \n",
    "    lnS=np.log(S)\n",
    "    \n",
    "    sum_CT=0\n",
    "    \n",
    "    sum_CT2=0\n",
    "    \n",
    "    \n",
    "    lnSt1=np.zeros((M,1))\n",
    "    \n",
    "    lnSt2=np.zeros((M,1))\n",
    "    \n",
    "    St1=np.zeros((M,1))\n",
    "    St2=np.zeros((M,1))\n",
    "    \n",
    "    #lnSt1[0,0]=lnS\n",
    "    #lnSt2[0,0]=lnS\n",
    "    \n",
    "    CT=np.zeros((M,1))\n",
    "    \n",
    "    for j in range(0,M-1):\n",
    "          \n",
    "            \n",
    "        #lnSt1[0,0]=lnS\n",
    "        #lnSt2[0,0]=lnS\n",
    "        \n",
    "            \n",
    "        e=np.random.normal(0,1,1)\n",
    "            \n",
    "        lnSt1[j,0]= lnS+ nudt+ sigsdt*e\n",
    "            \n",
    "        lnSt2[j,0]= lnS+ nudt+ sigsdt*(-e)\n",
    "            \n",
    "        \n",
    "        \n",
    "        \n",
    "        \n",
    "        St1[j,0]= np.exp(lnSt1[j,0])\n",
    "        \n",
    "        St2[j,0]= np.exp(lnSt2[j,0])\n",
    "        \n",
    "        \n",
    "        \n",
    "        if optype== \"c\":\n",
    "            \n",
    "        \n",
    "            CT[j,0]= 0.5* ( max(0,St1[j,0]-K) + max(0, St2[j,0]-K) )\n",
    "        \n",
    "        elif optype== \"p\":\n",
    "            \n",
    "            CT[j,0]= 0.5* ( max(K-St1[j,0],0) + max(K-St2[j,0],0) )\n",
    "        \n",
    "        \n",
    "        sum_CT= sum_CT+ CT[j,0]\n",
    "              \n",
    "        sum_CT2= sum_CT2+ CT[j,0]*CT[j,0]\n",
    "        \n",
    "    \n",
    "    #return lnSt2 \n",
    "    \n",
    "    #return St2\n",
    "\n",
    "    #return CT\n",
    "    \n",
    "    #return sum_CT\n",
    "        \n",
    "    \n",
    "    call_value= sum_CT/M*np.exp(-r*T)\n",
    "    \n",
    "    SD= np.sqrt( ( sum_CT2 - sum_CT*sum_CT/M )* np.exp(-2*r*T)/ (M-1) )\n",
    "    \n",
    "    SE= SD/np.sqrt(M)\n",
    "    \n",
    "    \n",
    "    end=time.time()\n",
    "    \n",
    "    duration= end - start\n",
    "        \n",
    "        \n",
    "    return call_value, SE, duration  \n",
    "        \n",
    "    "
   ]
  },
  {
   "cell_type": "code",
   "execution_count": 19,
   "metadata": {},
   "outputs": [
    {
     "data": {
      "text/plain": [
       "(5.7619804070276714, 0.44208439876288697, 0.0025610923767089844)"
      ]
     },
     "execution_count": 19,
     "metadata": {},
     "output_type": "execute_result"
    }
   ],
   "source": [
    "a=MCAV(K=100,T=1,S=100,sig=0.2,r=0.06,div=0.03,N=1,M=100,optype=\"p\")\n",
    "a\n",
    "#a.shape"
   ]
  },
  {
   "cell_type": "markdown",
   "metadata": {},
   "source": [
    "### Delta based Contral Variate"
   ]
  },
  {
   "cell_type": "markdown",
   "metadata": {},
   "source": [
    "#### Blac_Scholes_delta"
   ]
  },
  {
   "cell_type": "code",
   "execution_count": 30,
   "metadata": {},
   "outputs": [],
   "source": [
    "def Blac_Scholes_delta(K,T,t,S,sig,r,div,optype):\n",
    "    \n",
    "    d1 = 1 / (sig * np.sqrt(T)) * ( np.log(S/K) + (r- div+ sig**2/2) * T)\n",
    "    \n",
    "    if optype == 'c':\n",
    "        return np.exp(-div*(T-t))*norm.cdf(d1)\n",
    "    if optype == 'p':\n",
    "        return np.exp(-div*(T-t)*(norm.cdf(d1)-1))"
   ]
  },
  {
   "cell_type": "code",
   "execution_count": 31,
   "metadata": {},
   "outputs": [
    {
     "data": {
      "text/plain": [
       "0.5827575324752046"
      ]
     },
     "execution_count": 31,
     "metadata": {},
     "output_type": "execute_result"
    }
   ],
   "source": [
    "Blac_Scholes_delta(K=100,T=1,t=0.1,S=100,sig=0.2,r=0.06,div=0.03,optype=\"c\")"
   ]
  },
  {
   "cell_type": "code",
   "execution_count": 32,
   "metadata": {},
   "outputs": [],
   "source": [
    "def MCDCV(K,T,S,sig,r,div,N,M,optype=\"c\"):\n",
    "    \n",
    "    start=time.time()\n",
    "    \n",
    "    dt=T/N\n",
    "    \n",
    "    nudt= (r-div-0.5*sig**2)*dt\n",
    "    \n",
    "    sigsdt= sig*np.sqrt(dt)\n",
    "    \n",
    "    erddt= np.exp(( r-div)*dt)\n",
    "    \n",
    "    beta1= -1\n",
    "    \n",
    "    sum_CT=0\n",
    "    \n",
    "    sum_CT2=0\n",
    "    \n",
    "    \n",
    "    \n",
    "    for j in range(1,M+1):\n",
    "        \n",
    "        St= S\n",
    "        \n",
    "        cv= 0\n",
    "        \n",
    "        for i in range(1,N+1):\n",
    "            \n",
    "            \n",
    "            t= (i-1)*dt\n",
    "            \n",
    "            \n",
    "            delta=Blac_Scholes_delta(K,T,t,St,sig,r,div,optype)\n",
    "            \n",
    "            # return delta\n",
    "            \n",
    "            e= np.random.normal(0,1,1)\n",
    "            \n",
    "            Stn= St*np.exp(nudt +sigsdt*e)\n",
    "            \n",
    "            cv= cv + delta*(Stn-St*erddt)\n",
    "            \n",
    "            St=Stn\n",
    "            \n",
    "        \n",
    "        if optype== \"c\":\n",
    "                   \n",
    "        \n",
    "            CT= max(0,St-K) + beta1*cv\n",
    "            \n",
    "        elif optype== \"p\":\n",
    "            \n",
    "            \n",
    "            CT= max(0,K-St) + beta1*cv\n",
    "            \n",
    "        \n",
    "        sum_CT= sum_CT+ CT\n",
    "        \n",
    "        sum_CT2= sum_CT2+ CT*CT\n",
    "        \n",
    "        \n",
    "    #return delta    \n",
    "    \n",
    "    call_value= float(sum_CT/ M*np.exp(-r*T))\n",
    "    \n",
    "    SD= np.sqrt(( sum_CT2- sum_CT*sum_CT/M )*np.exp(-2*r*T)/ (M-1))\n",
    "    \n",
    "    SE= float(SD/np.sqrt(M))\n",
    "            \n",
    "    end=time.time()  \n",
    "    \n",
    "    duration= end-start\n",
    "    \n",
    "    return call_value,SE, duration\n",
    "            \n",
    "  "
   ]
  },
  {
   "cell_type": "code",
   "execution_count": 33,
   "metadata": {},
   "outputs": [
    {
     "data": {
      "text/plain": [
       "(8.999277918921342, 0.2719212359540458, 0.1628100872039795)"
      ]
     },
     "execution_count": 33,
     "metadata": {},
     "output_type": "execute_result"
    }
   ],
   "source": [
    "MCDCV(K=100,T=1,S=100,sig=0.2,r=0.06,div=0.03,N=10,M=100,optype=\"c\")"
   ]
  },
  {
   "cell_type": "markdown",
   "metadata": {},
   "source": [
    "## Antithetic and Delta- based contral variates"
   ]
  },
  {
   "cell_type": "code",
   "execution_count": 34,
   "metadata": {},
   "outputs": [],
   "source": [
    "def MCADCV(K,T,S,sig,r,div,N,M,optype):\n",
    "    \n",
    "    \n",
    "    start=time.time()\n",
    "    \n",
    "    dt= T/N\n",
    "    \n",
    "    nudt= (r-div-0.5*sig**2)*dt\n",
    "    \n",
    "    sigsdt= sig*np.sqrt(dt)\n",
    "    \n",
    "    erddt= np.exp(( r-div)*dt)\n",
    "    \n",
    "    beta1= -1\n",
    "    \n",
    "    sum_CT= 0\n",
    "    \n",
    "    sum_CT2= 0 \n",
    "    \n",
    "    \n",
    "    for j in range(1,M+1):\n",
    "        \n",
    "        St1=S\n",
    "        \n",
    "        St2=S\n",
    "        \n",
    "        cv1=0\n",
    "        \n",
    "        cv2=0\n",
    "        \n",
    "        for i in range(1,N+1):\n",
    "            \n",
    "            \n",
    "            t= (i-1)*dt\n",
    "            \n",
    "            delta1= Blac_Scholes_delta(K,T,t,St1,sig,r,div,optype)\n",
    "            \n",
    "            delta2= Blac_Scholes_delta(K,T,t,St2,sig,r,div,optype)\n",
    "            \n",
    "            e= np.random.normal(0,1,1)\n",
    "            \n",
    "            Stn1= St1*np.exp( nudt+ sigsdt*e)\n",
    "            \n",
    "            Stn2= St2*np.exp( nudt+ sigsdt*(-e) )\n",
    "            \n",
    "            \n",
    "            cv1= cv1+ delta1*(Stn1-St1*erddt)\n",
    "            \n",
    "            cv2= cv2+ delta2*(Stn2-St2*erddt)\n",
    "            \n",
    "            \n",
    "            St1= Stn1\n",
    "            \n",
    "            St2= Stn2\n",
    "        \n",
    "        \n",
    "        if optype==\"c\":\n",
    "            \n",
    "            CT= 0.5* ( max(0,St1-K)+ beta1*cv1+  max(0,St2-K)+ beta1*cv2)\n",
    "            \n",
    "        \n",
    "        elif optype==\"p\":\n",
    "            \n",
    "            \n",
    "            CT= 0.5* ( max(K-St1,0)+ beta1*cv1+  max(K-St2,0)+ beta1*cv2)\n",
    "    \n",
    "        \n",
    "        sum_CT= sum_CT + CT\n",
    "        \n",
    "        sum_CT2= sum_CT2+ CT*CT\n",
    "        \n",
    "        \n",
    "    \n",
    "    call_value= float(sum_CT/M *np.exp(-r*T))\n",
    "    \n",
    "    SD= np.sqrt(( sum_CT2- sum_CT*sum_CT/M)* np.exp(-2*r*T)/ (M-1) )\n",
    "    \n",
    "    \n",
    "    SE= float(SD/np.sqrt(M))\n",
    "    \n",
    "    \n",
    "    end= time.time()\n",
    "    \n",
    "    \n",
    "    duration= end- start\n",
    "    \n",
    "    return call_value, SE, duration\n",
    "            \n",
    "    \n",
    "    "
   ]
  },
  {
   "cell_type": "code",
   "execution_count": 35,
   "metadata": {},
   "outputs": [
    {
     "data": {
      "text/plain": [
       "(9.132385646104707, 0.23575012321495664, 0.26267004013061523)"
      ]
     },
     "execution_count": 35,
     "metadata": {},
     "output_type": "execute_result"
    }
   ],
   "source": [
    "MCADCV(K=100,T=1,S=100,sig=0.2,r=0.06,div=0.03,N=10,M=100,optype=\"c\")"
   ]
  },
  {
   "cell_type": "markdown",
   "metadata": {},
   "source": [
    "## Comparison of the results"
   ]
  },
  {
   "cell_type": "markdown",
   "metadata": {},
   "source": [
    "### European Call"
   ]
  },
  {
   "cell_type": "code",
   "execution_count": 40,
   "metadata": {},
   "outputs": [],
   "source": [
    "mcc1=MCEU(K=100,T=1,S=100,sig=0.2,r=0.06,div=0.03,N=10,M=100,optype=\"c\")\n",
    "mcc2=MCAV(K=100,T=1,S=100,sig=0.2,r=0.06,div=0.03,N=1,M=100,optype=\"c\")\n",
    "mcc3=MCDCV(K=100,T=1,S=100,sig=0.2,r=0.06,div=0.03,N=10,M=100,optype=\"c\")\n",
    "mcc4=MCADCV(K=100,T=1,S=100,sig=0.2,r=0.06,div=0.03,N=10,M=100,optype=\"c\")\n",
    "\n"
   ]
  },
  {
   "cell_type": "code",
   "execution_count": 41,
   "metadata": {},
   "outputs": [
    {
     "data": {
      "text/html": [
       "<div>\n",
       "<style scoped>\n",
       "    .dataframe tbody tr th:only-of-type {\n",
       "        vertical-align: middle;\n",
       "    }\n",
       "\n",
       "    .dataframe tbody tr th {\n",
       "        vertical-align: top;\n",
       "    }\n",
       "\n",
       "    .dataframe thead th {\n",
       "        text-align: right;\n",
       "    }\n",
       "</style>\n",
       "<table border=\"1\" class=\"dataframe\">\n",
       "  <thead>\n",
       "    <tr style=\"text-align: right;\">\n",
       "      <th></th>\n",
       "      <th>MC</th>\n",
       "      <th>Antithetic Variates</th>\n",
       "      <th>Delta-based Control Variate</th>\n",
       "      <th>Antithetic&amp;Delta-based</th>\n",
       "    </tr>\n",
       "  </thead>\n",
       "  <tbody>\n",
       "    <tr>\n",
       "      <th>call value</th>\n",
       "      <td>8.186609</td>\n",
       "      <td>8.664609</td>\n",
       "      <td>8.829642</td>\n",
       "      <td>9.215379</td>\n",
       "    </tr>\n",
       "    <tr>\n",
       "      <th>SE</th>\n",
       "      <td>1.631225</td>\n",
       "      <td>0.697869</td>\n",
       "      <td>0.251916</td>\n",
       "      <td>0.239224</td>\n",
       "    </tr>\n",
       "    <tr>\n",
       "      <th>Duration</th>\n",
       "      <td>0.016041</td>\n",
       "      <td>0.003621</td>\n",
       "      <td>0.136241</td>\n",
       "      <td>0.220909</td>\n",
       "    </tr>\n",
       "  </tbody>\n",
       "</table>\n",
       "</div>"
      ],
      "text/plain": [
       "                  MC  Antithetic Variates  Delta-based Control Variate  \\\n",
       "call value  8.186609             8.664609                     8.829642   \n",
       "SE          1.631225             0.697869                     0.251916   \n",
       "Duration    0.016041             0.003621                     0.136241   \n",
       "\n",
       "            Antithetic&Delta-based  \n",
       "call value                9.215379  \n",
       "SE                        0.239224  \n",
       "Duration                  0.220909  "
      ]
     },
     "execution_count": 41,
     "metadata": {},
     "output_type": "execute_result"
    }
   ],
   "source": [
    "pd.DataFrame({\"MC\":mcc1,\"Antithetic Variates\":mcc2,\"Delta-based Control Variate\":mcc3,\"Antithetic&Delta-based\":mcc4},index=[\"call value\",\"SE\",\"Duration\"])\n",
    "\n"
   ]
  },
  {
   "cell_type": "markdown",
   "metadata": {},
   "source": [
    "### European Put"
   ]
  },
  {
   "cell_type": "code",
   "execution_count": 42,
   "metadata": {},
   "outputs": [],
   "source": [
    "mcp1=MCEU(K=100,T=1,S=100,sig=0.2,r=0.06,div=0.03,N=10,M=100,optype=\"p\")\n",
    "mcp2=MCAV(K=100,T=1,S=100,sig=0.2,r=0.06,div=0.03,N=1,M=100,optype=\"p\")\n",
    "mcp3=MCDCV(K=100,T=1,S=100,sig=0.2,r=0.06,div=0.03,N=10,M=100,optype=\"p\")\n",
    "mcp4=MCADCV(K=100,T=1,S=100,sig=0.2,r=0.06,div=0.03,N=10,M=100,optype=\"p\")\n"
   ]
  },
  {
   "cell_type": "code",
   "execution_count": 43,
   "metadata": {},
   "outputs": [
    {
     "data": {
      "text/html": [
       "<div>\n",
       "<style scoped>\n",
       "    .dataframe tbody tr th:only-of-type {\n",
       "        vertical-align: middle;\n",
       "    }\n",
       "\n",
       "    .dataframe tbody tr th {\n",
       "        vertical-align: top;\n",
       "    }\n",
       "\n",
       "    .dataframe thead th {\n",
       "        text-align: right;\n",
       "    }\n",
       "</style>\n",
       "<table border=\"1\" class=\"dataframe\">\n",
       "  <thead>\n",
       "    <tr style=\"text-align: right;\">\n",
       "      <th></th>\n",
       "      <th>MC</th>\n",
       "      <th>Antithetic Variates</th>\n",
       "      <th>Delta-based Control Variate</th>\n",
       "      <th>Antithetic&amp;Delta-based</th>\n",
       "    </tr>\n",
       "  </thead>\n",
       "  <tbody>\n",
       "    <tr>\n",
       "      <th>call value</th>\n",
       "      <td>5.393831</td>\n",
       "      <td>6.060820</td>\n",
       "      <td>-0.917028</td>\n",
       "      <td>6.131404</td>\n",
       "    </tr>\n",
       "    <tr>\n",
       "      <th>SE</th>\n",
       "      <td>0.957845</td>\n",
       "      <td>0.467409</td>\n",
       "      <td>2.598999</td>\n",
       "      <td>0.247954</td>\n",
       "    </tr>\n",
       "    <tr>\n",
       "      <th>Duration</th>\n",
       "      <td>0.014960</td>\n",
       "      <td>0.003132</td>\n",
       "      <td>0.139879</td>\n",
       "      <td>0.221451</td>\n",
       "    </tr>\n",
       "  </tbody>\n",
       "</table>\n",
       "</div>"
      ],
      "text/plain": [
       "                  MC  Antithetic Variates  Delta-based Control Variate  \\\n",
       "call value  5.393831             6.060820                    -0.917028   \n",
       "SE          0.957845             0.467409                     2.598999   \n",
       "Duration    0.014960             0.003132                     0.139879   \n",
       "\n",
       "            Antithetic&Delta-based  \n",
       "call value                6.131404  \n",
       "SE                        0.247954  \n",
       "Duration                  0.221451  "
      ]
     },
     "execution_count": 43,
     "metadata": {},
     "output_type": "execute_result"
    }
   ],
   "source": [
    "pd.DataFrame({\"MC\":mcp1,\"Antithetic Variates\":mcp2,\"Delta-based Control Variate\":mcp3,\"Antithetic&Delta-based\":mcp4},index=[\"call value\",\"SE\",\"Duration\"])\n"
   ]
  },
  {
   "cell_type": "code",
   "execution_count": 44,
   "metadata": {},
   "outputs": [],
   "source": [
    "def Blac_scholes(K,T,S,sig,r,div,optype):\n",
    "    \n",
    "    d1 = (np.log(S / K) + (r - div + 0.5 * sig ** 2) * T) / (sig * np.sqrt(T))\n",
    "    d2 = (np.log(S / K) + (r - div - 0.5 * sig ** 2) * T) / (sig * np.sqrt(T))\n",
    "    \n",
    "    C = (S * np.exp(-div * T) * norm.cdf(d1, 0.0, 1.0) - K * np.exp(-r * T) * norm.cdf(d2, 0.0, 1.0)) \n",
    "    P = (K * np.exp(-r * T) * norm.cdf(-d2, 0.0, 1.0) - S * np.exp(-div*T) * norm.cdf(-d1, 0.0, 1.0)) \n",
    "\n",
    "    if optype == \"c\":\n",
    "        return C \n",
    "\n",
    "    elif optype ==\"p\":\n",
    "        return P"
   ]
  },
  {
   "cell_type": "code",
   "execution_count": 45,
   "metadata": {},
   "outputs": [
    {
     "data": {
      "text/plain": [
       "9.135195269350568"
      ]
     },
     "execution_count": 45,
     "metadata": {},
     "output_type": "execute_result"
    }
   ],
   "source": [
    "Blac_scholes(100,1,100,0.2,0.06,0.03,\"c\")"
   ]
  },
  {
   "cell_type": "code",
   "execution_count": 46,
   "metadata": {},
   "outputs": [
    {
     "data": {
      "text/plain": [
       "6.267095272924621"
      ]
     },
     "execution_count": 46,
     "metadata": {},
     "output_type": "execute_result"
    }
   ],
   "source": [
    "Blac_scholes(100,1,100,0.2,0.06,0.03,\"p\")"
   ]
  },
  {
   "cell_type": "markdown",
   "metadata": {},
   "source": [
    "Among all the Monte Carlo methods, we could say that Antithetic Variates and Delta-based Control Variate method is more close to Blackscholes value. Moreover it has the lowest SE value.\n",
    "\n",
    "Monte carlo without any variance reduction method works the fastest comparing to other methods, however, it gives poor results, very far away from black scholes value"
   ]
  },
  {
   "cell_type": "markdown",
   "metadata": {},
   "source": [
    "# Problem 2"
   ]
  },
  {
   "cell_type": "markdown",
   "metadata": {},
   "source": [
    "## (a) Arithmetic Asian call option"
   ]
  },
  {
   "cell_type": "code",
   "execution_count": 54,
   "metadata": {},
   "outputs": [],
   "source": [
    "def MCAS(K,T,S,sig,r,div,N,M,optype):\n",
    "    \n",
    "    dt=T/N\n",
    "    nudt= (r- div- 0.5*sig**2)*dt \n",
    "    sigsdt= sig*np.sqrt(dt)\n",
    "    \n",
    "    sum_CT= 0\n",
    "    sum_CT2= 0\n",
    "    \n",
    "    for j in range(0,M):\n",
    "        \n",
    "        St=S\n",
    "        \n",
    "        sumSt=0\n",
    "\n",
    "        for i in range(0,N):\n",
    "            \n",
    "            \n",
    "            e= np.random.normal(0,1,1)\n",
    "            \n",
    "            St= St* np.exp(nudt+ sigsdt*e)\n",
    "            \n",
    "            sumSt= sumSt+ St\n",
    "        \n",
    "        \n",
    "        A= sumSt/N\n",
    "        \n",
    "        \n",
    "        if optype==\"c\":\n",
    "            \n",
    "          CT= max(0,A-K)\n",
    "        \n",
    "        elif optype==\"p\":\n",
    "            \n",
    "            \n",
    "            CT= max(0,K-A)\n",
    "        \n",
    "        \n",
    "        sum_CT= sum_CT +CT\n",
    "        \n",
    "        sum_CT2= sum_CT2+ CT*CT\n",
    "    \n",
    "    \n",
    "    option_value= sum_CT/M *np.exp(-r*T)\n",
    "    SD= np.sqrt(( sum_CT2- sum_CT*sum_CT/M)* np.exp(-2*r*T)/ (M-1))\n",
    "    SE= SD/np.sqrt(M)\n",
    "            \n",
    "            \n",
    "    return option_value\n",
    "         \n",
    "    "
   ]
  },
  {
   "cell_type": "code",
   "execution_count": 55,
   "metadata": {},
   "outputs": [
    {
     "data": {
      "text/plain": [
       "array([5.43640907])"
      ]
     },
     "execution_count": 55,
     "metadata": {},
     "output_type": "execute_result"
    }
   ],
   "source": [
    "MCAS(K=100,T=1,S=100,sig=0.2,r=0.06,div=0.03,N=12,M=100,optype=\"c\")"
   ]
  },
  {
   "cell_type": "markdown",
   "metadata": {},
   "source": [
    "## (b) Up and Out Barrier Call Option"
   ]
  },
  {
   "cell_type": "code",
   "execution_count": 56,
   "metadata": {},
   "outputs": [],
   "source": [
    "def MCUOB(K,T,S,sig,r,div,H,N,M,optype):\n",
    "    \n",
    "    dt=T/N\n",
    "    nudt= (r-div- 0.5*sig**2)*dt\n",
    "    sigsdt= sig*np.sqrt(dt)\n",
    "    \n",
    "    sum_CT= 0\n",
    "    \n",
    "    sum_CT2= 0\n",
    "    \n",
    "    \n",
    "    for j in range(0,M):\n",
    "        \n",
    "        St=S\n",
    "        \n",
    "        \n",
    "        for i in range(0,N):\n",
    "            \n",
    "            \n",
    "            e= np.random.normal(0,1,1)\n",
    "            \n",
    "            St= St* np.exp(nudt+ sigsdt*e)\n",
    "            \n",
    "            if St>H:\n",
    "                \n",
    "                break\n",
    "        \n",
    "        \n",
    "        \n",
    "        if optype==\"c\":\n",
    "        \n",
    "            CT= max(0,St-K)\n",
    "            \n",
    "        elif optype==\"p\":\n",
    "            \n",
    "            CT= max(0,K-St)\n",
    "        \n",
    "        \n",
    "        \n",
    "        sum_CT= sum_CT+ CT\n",
    "        \n",
    "        sum_CT2= sum_CT2+ CT*CT\n",
    "        \n",
    "        \n",
    "    \n",
    "    \n",
    "    call_value= sum_CT/M*np.exp(-r*T)\n",
    "    \n",
    "    SD= np.sqrt(( sum_CT2-sum_CT*sum_CT/M  ))* np.exp(-2*r*T)/(M-1)\n",
    "    \n",
    "    SE= SD/np.sqrt(M)\n",
    "    \n",
    "    \n",
    "    \n",
    "    return call_value\n",
    "            \n",
    "            \n",
    "\n",
    "    "
   ]
  },
  {
   "cell_type": "code",
   "execution_count": 57,
   "metadata": {},
   "outputs": [
    {
     "data": {
      "text/plain": [
       "array([6.32154556])"
      ]
     },
     "execution_count": 57,
     "metadata": {},
     "output_type": "execute_result"
    }
   ],
   "source": [
    "MCUOB(K=100,T=1,S=100,sig=0.2,r=0.06,div=0.03,H=110,N=12,M=100,optype=\"c\")"
   ]
  },
  {
   "cell_type": "markdown",
   "metadata": {},
   "source": [
    "# Problem 3"
   ]
  },
  {
   "cell_type": "markdown",
   "metadata": {},
   "source": [
    "## (a) Cholesky decomposition"
   ]
  },
  {
   "cell_type": "code",
   "execution_count": 58,
   "metadata": {},
   "outputs": [],
   "source": [
    "def cholesky(a):\n",
    "    \n",
    "    a= np.array(a,float)\n",
    "    \n",
    "    L=np.zeros_like(a)\n",
    "    \n",
    "    n,b=np.shape(a)\n",
    "    \n",
    "    for j in range(n):\n",
    "        \n",
    "        for i in range(j,n):\n",
    "            \n",
    "            if i== j:\n",
    "                \n",
    "                sumk=0\n",
    "                \n",
    "                for k in range(j):\n",
    "                    \n",
    "                    sumk+= L[i,k]**2\n",
    "                    \n",
    "                L[i,j]= np.sqrt(a[i,j]- sumk)\n",
    "                \n",
    "            else:\n",
    "                \n",
    "                sumk=0\n",
    "                \n",
    "                for k in range(j):\n",
    "                    \n",
    "                    sumk+= L[i,k] * L[j,k]\n",
    "                    \n",
    "                L[i,j]= (a[i,j]- sumk) / L[j,j]\n",
    "                \n",
    "    return L\n",
    "            \n",
    "    "
   ]
  },
  {
   "cell_type": "code",
   "execution_count": 59,
   "metadata": {},
   "outputs": [
    {
     "data": {
      "text/plain": [
       "[[1, 0.5, 0.2], [0.5, 1, -0.4], [0.2, -0.4, 1]]"
      ]
     },
     "execution_count": 59,
     "metadata": {},
     "output_type": "execute_result"
    }
   ],
   "source": [
    "A=[[1,0.5,0.2],[0.5,1,-0.4],[0.2,-0.4,1]]\n",
    "A"
   ]
  },
  {
   "cell_type": "code",
   "execution_count": 60,
   "metadata": {},
   "outputs": [
    {
     "data": {
      "text/plain": [
       "array([[ 1.        ,  0.        ,  0.        ],\n",
       "       [ 0.5       ,  0.8660254 ,  0.        ],\n",
       "       [ 0.2       , -0.57735027,  0.79162281]])"
      ]
     },
     "execution_count": 60,
     "metadata": {},
     "output_type": "execute_result"
    }
   ],
   "source": [
    "B=cholesky(A)\n",
    "B"
   ]
  },
  {
   "cell_type": "code",
   "execution_count": 61,
   "metadata": {},
   "outputs": [
    {
     "data": {
      "text/plain": [
       "array([[ 3.        ,  0.        ,  0.        ],\n",
       "       [ 1.5       ,  2.59807621,  0.        ],\n",
       "       [ 0.6       , -1.73205081,  2.37486842]])"
      ]
     },
     "execution_count": 61,
     "metadata": {},
     "output_type": "execute_result"
    }
   ],
   "source": [
    "np.dot(B,3)"
   ]
  },
  {
   "cell_type": "code",
   "execution_count": 62,
   "metadata": {},
   "outputs": [
    {
     "data": {
      "text/plain": [
       "array([[ 1. ,  0.5,  0.2],\n",
       "       [ 0.5,  1. , -0.4],\n",
       "       [ 0.2, -0.4,  1. ]])"
      ]
     },
     "execution_count": 62,
     "metadata": {},
     "output_type": "execute_result"
    }
   ],
   "source": [
    "np.dot(B,np.transpose(B))"
   ]
  },
  {
   "cell_type": "code",
   "execution_count": 63,
   "metadata": {},
   "outputs": [
    {
     "data": {
      "text/plain": [
       "array([[[0.27621182]],\n",
       "\n",
       "       [[0.00357075]],\n",
       "\n",
       "       [[0.40664941]]])"
      ]
     },
     "execution_count": 63,
     "metadata": {},
     "output_type": "execute_result"
    }
   ],
   "source": [
    "W1=np.random.normal(0,1,1)\n",
    "W2=np.random.normal(0,1,1)\n",
    "W3=np.random.normal(0,1,1)\n",
    "brown_mot=[[W1,W2,W3]]\n",
    "#brown_mot\n",
    "np.dot(B,brown_mot)"
   ]
  },
  {
   "cell_type": "code",
   "execution_count": 64,
   "metadata": {},
   "outputs": [
    {
     "data": {
      "text/plain": [
       "array([[[0.27621182]],\n",
       "\n",
       "       [[0.00357075]],\n",
       "\n",
       "       [[0.40664941]]])"
      ]
     },
     "execution_count": 64,
     "metadata": {},
     "output_type": "execute_result"
    }
   ],
   "source": [
    "np.dot(B,brown_mot)"
   ]
  },
  {
   "cell_type": "markdown",
   "metadata": {},
   "source": [
    "## (b)  Correlated GBM simulation"
   ]
  },
  {
   "cell_type": "code",
   "execution_count": 65,
   "metadata": {},
   "outputs": [],
   "source": [
    "def gbm(S0,T,mu,sig,A,N,M):\n",
    "    \n",
    "    \n",
    "    dt= T/N\n",
    "    \n",
    "    value=[]\n",
    "    \n",
    "    L=cholesky(A)\n",
    "    \n",
    "    for i in range(M):\n",
    "        \n",
    "        S1=S0[0]\n",
    "        S2=S0[1]\n",
    "        S3=S0[2]\n",
    "        \n",
    "        res1=[]\n",
    "        \n",
    "        \n",
    "        for j in range(N):\n",
    "            \n",
    "            row_z= np.random.normal(0,1,3)\n",
    "            \n",
    "            z= np.dot(L,row_z)\n",
    "            \n",
    "            z1= z[0]\n",
    "            z2= z[1]\n",
    "            z3= z[2]\n",
    "            \n",
    "            \n",
    "            S1= S1+ mu[0]*S1*dt+ sig[0]*S1*z1*np.sqrt(dt)\n",
    "            \n",
    "            S2= S2+ mu[1]*S2*dt+ sig[1]*S2*z2*np.sqrt(dt)\n",
    "            \n",
    "            S3= S3+ mu[2]*S3*dt+ sig[2]*S3*z3*np.sqrt(dt)\n",
    "            \n",
    "            res2=[S1,S2,S3]\n",
    "            \n",
    "            res1.append(res2)\n",
    "        value.append(res1)\n",
    "    return value\n",
    "            \n",
    "            \n",
    "            \n",
    "        "
   ]
  },
  {
   "cell_type": "code",
   "execution_count": 66,
   "metadata": {},
   "outputs": [
    {
     "data": {
      "text/plain": [
       "matrix([[ 1. ,  0.5,  0.2],\n",
       "        [ 0.5,  1. , -0.4],\n",
       "        [ 0.2, -0.4,  1. ]])"
      ]
     },
     "execution_count": 66,
     "metadata": {},
     "output_type": "execute_result"
    }
   ],
   "source": [
    "a= np.matrix([[1,0.5,0.2],\n",
    "                [0.5,1,-0.4],\n",
    "                [0.2,-0.4,1]])\n",
    "a"
   ]
  },
  {
   "cell_type": "code",
   "execution_count": 67,
   "metadata": {},
   "outputs": [],
   "source": [
    "res=gbm(S0=[100,101,98],T=100/365,mu=[0.03,0.06,0.02],sig=[0.05,0.2,0.15],A=a,N=100,M=1000)\n"
   ]
  },
  {
   "cell_type": "code",
   "execution_count": 68,
   "metadata": {},
   "outputs": [
    {
     "data": {
      "text/plain": [
       "Text(0.5, 0, 'price')"
      ]
     },
     "execution_count": 68,
     "metadata": {},
     "output_type": "execute_result"
    },
    {
     "data": {
      "image/png": "[encoded data removed]",
      "text/plain": [
       "<Figure size 432x288 with 1 Axes>"
      ]
     },
     "metadata": {
      "needs_background": "light"
     },
     "output_type": "display_data"
    }
   ],
   "source": [
    "fig = plt.figure()\n",
    "ax = fig.add_subplot(111, projection='3d')\n",
    "for mm in range(10):\n",
    "    xt = []\n",
    "    yt = []\n",
    "    zt = []\n",
    "    for nn in range(len(res[mm])):\n",
    "        xt.append(res[mm][nn][0])\n",
    "        yt.append(res[mm][nn][1])\n",
    "        zt.append(res[mm][nn][2])\n",
    "    ax.plot(range(100),np.asarray([mm]*100),xt,color = \"red\")\n",
    "    ax.plot(range(100),np.asarray([mm]*100),yt,color = \"blue\")\n",
    "    ax.plot(range(100),np.asarray([mm]*100),zt,color = \"lightgreen\")\n",
    "ax.set_xlabel('time')\n",
    "ax.set_ylabel('simulation')\n",
    "ax.set_zlabel('price')"
   ]
  },
  {
   "cell_type": "markdown",
   "metadata": {},
   "source": [
    "## (c) Basket options simulation"
   ]
  },
  {
   "cell_type": "code",
   "execution_count": 74,
   "metadata": {},
   "outputs": [],
   "source": [
    "def gbm_basket(S0,K,r,T,mu,sig,a,optype,A,N,M):\n",
    "    \n",
    "    dt= T/N\n",
    "    \n",
    "    L= cholesky(A)\n",
    "    \n",
    "    disc= np.exp(-r*T)\n",
    "    \n",
    "    sum_C= 0\n",
    "    \n",
    "    for i in range(M):\n",
    "        \n",
    "        S1=S0[0]\n",
    "        S2=S0[1]\n",
    "        S3=S0[2]\n",
    "        \n",
    "        \n",
    "        \n",
    "        for j in range(N):\n",
    "            \n",
    "            row_z= np.random.normal(0,1,3)\n",
    "            \n",
    "            z= np.dot(L,row_z)\n",
    "            \n",
    "            S1= S1+ mu[0]*S1*dt+ sig[0]*S1*z[0]*np.sqrt(dt)\n",
    "            \n",
    "            S2= S2+ mu[1]*S2*dt+ sig[1]*S2*z[1]*np.sqrt(dt)\n",
    "            \n",
    "            S3= S3+ mu[2]*S3*dt+ sig[2]*S3*z[2]*np.sqrt(dt)\n",
    "            \n",
    "        \n",
    "        Ut= a[0]*S1+ a[1]*S2+ a[2]*S3\n",
    "        \n",
    "        \n",
    "        if optype== \"c\":\n",
    "            \n",
    "            C= disc*max(Ut-K,0)\n",
    "            \n",
    "        elif optype== \"p\":\n",
    "            \n",
    "            C= disc*max(-Ut+K,0)\n",
    "        \n",
    "        sum_C+= C\n",
    "        \n",
    "    \n",
    "    value= sum_C/M\n",
    "    \n",
    "    return value\n",
    "        \n",
    "    "
   ]
  },
  {
   "cell_type": "code",
   "execution_count": 75,
   "metadata": {},
   "outputs": [],
   "source": [
    "S0=[100,101,98]\n",
    "sig=[0.05,0.2,0.15]\n",
    "mu=[0.03,0.06,0.02]\n",
    "a=[1/3,1/3,1/3]\n",
    "A= np.matrix([[1,0.5,0.2],\n",
    "                [0.5,1,-0.4],\n",
    "                [0.2,-0.4,1]])"
   ]
  },
  {
   "cell_type": "code",
   "execution_count": 76,
   "metadata": {},
   "outputs": [
    {
     "data": {
      "text/plain": [
       "4.259055339249731"
      ]
     },
     "execution_count": 76,
     "metadata": {},
     "output_type": "execute_result"
    }
   ],
   "source": [
    "gbm_basket(S0=S0,K=100,r=0.06,T=1,mu=mu,sig=sig,a=a,optype=\"c\",A=A,N=100,M=100)\n",
    "\n",
    "\n"
   ]
  },
  {
   "cell_type": "code",
   "execution_count": 77,
   "metadata": {},
   "outputs": [
    {
     "data": {
      "text/plain": [
       "1.5867162526345826"
      ]
     },
     "execution_count": 77,
     "metadata": {},
     "output_type": "execute_result"
    }
   ],
   "source": [
    "gbm_basket(S0=S0,K=100,r=0.06,T=1,mu=mu,sig=sig,a=a,optype=\"p\",A=A,N=100,M=100)"
   ]
  },
  {
   "cell_type": "markdown",
   "metadata": {},
   "source": [
    "## (d) Exotic basket option"
   ]
  },
  {
   "cell_type": "markdown",
   "metadata": {},
   "source": [
    "### (i)"
   ]
  },
  {
   "cell_type": "code",
   "execution_count": 78,
   "metadata": {},
   "outputs": [],
   "source": [
    "def exgbm_basket1(S0,K,r,T,mu,sig,a,optype,B,A,N,M):\n",
    "    \n",
    "    \n",
    "    dt=T/N\n",
    "    \n",
    "    L=cholesky(A)\n",
    "    \n",
    "    disc= np.exp(-r*T)\n",
    "    \n",
    "    sum_C=0\n",
    "    \n",
    "    #nudt= (r+0.5*sig**2)*dt\n",
    "    #sigsdt= sig*np.sqrt(dt)\n",
    "    \n",
    "    for i in range(M):\n",
    "        \n",
    "        \n",
    "        S1= S0[0]\n",
    "        \n",
    "        S2= S0[1]\n",
    "        \n",
    "        S3= S0[2]\n",
    "        \n",
    "        indic=0\n",
    "        \n",
    "        for j in range(N):\n",
    "            \n",
    "            \n",
    "            #nudt= (r-div- 0.5*sig**2)*dt\n",
    "            #sigsdt= sig*np.sqrt(dt)\n",
    "            \n",
    "            \n",
    "            row_z=np.random.normal(0,1,3)\n",
    "            \n",
    "            z= np.dot(L,row_z)\n",
    "            \n",
    "            S1= S1*np.exp( (mu[0]+0.5*sig[0]**2)*dt+ sig[0]*np.sqrt(dt)*z[0])\n",
    "            \n",
    "            S2= S2*np.exp( (mu[1]+0.5*sig[1]**2)*dt+ sig[1]*np.sqrt(dt)*z[1])\n",
    "            \n",
    "            S3=S3*np.exp( (mu[2]+0.5*sig[2]**2)*dt+ sig[2]*np.sqrt(dt)*z[2])\n",
    "            \n",
    "            \n",
    "            \n",
    "            if S2> B:\n",
    "                \n",
    "                indic=1\n",
    "            else:\n",
    "                \n",
    "                indic= indic\n",
    "                \n",
    "        \n",
    "        Ut= a[0]*S1+ a[1]*S2+ a[2]*S3\n",
    "        \n",
    "        if indic==1:\n",
    "            \n",
    "            payoff= disc*max(S2-K,0)\n",
    "            \n",
    "            \n",
    "        else:\n",
    "            \n",
    "            payoff= disc*max(Ut-K,0)\n",
    "            \n",
    "            \n",
    "        sum_C+= payoff\n",
    "        \n",
    "        \n",
    "    \n",
    "    value= sum_C/M\n",
    "    \n",
    "    return value\n",
    "            \n",
    "            \n",
    "            \n",
    "            \n",
    "       "
   ]
  },
  {
   "cell_type": "code",
   "execution_count": 79,
   "metadata": {},
   "outputs": [],
   "source": [
    "S0=[100,101,98]\n",
    "sig=[0.05,0.2,0.15]\n",
    "mu=[0.03,0.06,0.02]\n",
    "a=[1/3,1/3,1/3]\n",
    "A= np.matrix([[1,0.5,0.2],\n",
    "                [0.5,1,-0.4],\n",
    "                [0.2,-0.4,1]])"
   ]
  },
  {
   "cell_type": "code",
   "execution_count": 80,
   "metadata": {},
   "outputs": [
    {
     "data": {
      "text/plain": [
       "16.47735805824951"
      ]
     },
     "execution_count": 80,
     "metadata": {},
     "output_type": "execute_result"
    }
   ],
   "source": [
    "exgbm_basket1(S0=S0,K=100,r=0.06,T=1,mu=mu,sig=sig,a=a,optype=\"c\",B=104,A=A,N=100,M=100)"
   ]
  },
  {
   "cell_type": "markdown",
   "metadata": {},
   "source": [
    "- using different technique"
   ]
  },
  {
   "cell_type": "code",
   "execution_count": 81,
   "metadata": {},
   "outputs": [],
   "source": [
    "def exgbm_basket1(S0,K,r,T,mu,sig,a,optype,B,A,N,M):\n",
    "    \n",
    "    \n",
    "    dt=T/N\n",
    "    \n",
    "    L=cholesky(A)\n",
    "    \n",
    "    disc= np.exp(-r*T)\n",
    "    \n",
    "    sum_C=0\n",
    "    \n",
    "    #nudt= (r+0.5*sig**2)*dt\n",
    "    #sigsdt= sig*np.sqrt(dt)\n",
    "    \n",
    "    for i in range(M):\n",
    "        \n",
    "        \n",
    "        S1= S0[0]\n",
    "        \n",
    "        S2= S0[1]\n",
    "        \n",
    "        S3= S0[2]\n",
    "        \n",
    "        indic=0\n",
    "        \n",
    "        for j in range(N):\n",
    "            \n",
    "            \n",
    "            #nudt= (r-div- 0.5*sig**2)*dt\n",
    "            #sigsdt= sig*np.sqrt(dt)\n",
    "            \n",
    "            \n",
    "            row_z=np.random.normal(0,1,3)\n",
    "            \n",
    "            z= np.dot(L,row_z)\n",
    "            \n",
    "            S1= S1+ mu[0]*S1*dt+ sig[0]*S1*z[0]*np.sqrt(dt)\n",
    "            \n",
    "            S2= S2+ mu[1]*S2*dt+ sig[1]*S2*z[1]*np.sqrt(dt)\n",
    "            \n",
    "            S3= S3+ mu[2]*S3*dt+ sig[2]*S3*z[2]*np.sqrt(dt)\n",
    "            \n",
    "            \n",
    "            \n",
    "            if S2> B:\n",
    "                \n",
    "                indic=1\n",
    "            else:\n",
    "                \n",
    "                indic= indic\n",
    "                \n",
    "        \n",
    "        Ut= a[0]*S1+ a[1]*S2+ a[2]*S3\n",
    "        \n",
    "        if indic==1:\n",
    "            \n",
    "            payoff= disc*max(S2-K,0)\n",
    "            \n",
    "            \n",
    "        else:\n",
    "            \n",
    "            payoff= disc*max(Ut-K,0)\n",
    "            \n",
    "            \n",
    "        sum_C+= payoff\n",
    "        \n",
    "        \n",
    "    \n",
    "    value= sum_C/M\n",
    "    \n",
    "    return value\n",
    "            \n",
    "            \n",
    "            \n",
    "            \n",
    "       "
   ]
  },
  {
   "cell_type": "code",
   "execution_count": 82,
   "metadata": {},
   "outputs": [
    {
     "data": {
      "text/plain": [
       "13.534326385243855"
      ]
     },
     "execution_count": 82,
     "metadata": {},
     "output_type": "execute_result"
    }
   ],
   "source": [
    "exgbm_basket1(S0=S0,K=100,r=0.06,T=1,mu=mu,sig=sig,a=a,optype=\"c\",B=104,A=A,N=100,M=100)"
   ]
  },
  {
   "cell_type": "markdown",
   "metadata": {},
   "source": [
    "### (ii)"
   ]
  },
  {
   "cell_type": "code",
   "execution_count": 84,
   "metadata": {},
   "outputs": [],
   "source": [
    "def exgbm_basket1(S0,K,r,T,mu,sig,a,optype,B,A,N,M):\n",
    "    \n",
    "    \n",
    "    dt=T/N\n",
    "    \n",
    "    L=cholesky(A)\n",
    "    \n",
    "    disc= np.exp(-r*T)\n",
    "    \n",
    "    sum_C=0\n",
    "    \n",
    "    #nudt= (r+0.5*sig**2)*dt\n",
    "    #sigsdt= sig*np.sqrt(dt)\n",
    "    \n",
    "    for i in range(M):\n",
    "        \n",
    "        \n",
    "        S1= S0[0]\n",
    "        \n",
    "        S2= S0[1]\n",
    "        \n",
    "        S3= S0[2]\n",
    "        \n",
    "        indic=0\n",
    "        \n",
    "        max2=S2\n",
    "        max3=S3\n",
    "        \n",
    "        for j in range(N):\n",
    "            \n",
    "            \n",
    "            #nudt= (r-div- 0.5*sig**2)*dt\n",
    "            #sigsdt= sig*np.sqrt(dt)\n",
    "            \n",
    "            \n",
    "\n",
    "            \n",
    "            row_z=np.random.normal(0,1,3)\n",
    "            \n",
    "            z= np.dot(L,row_z)\n",
    "            \n",
    "            S1= S1*np.exp( (mu[0]+0.5*sig[0]**2)*dt+ sig[0]*np.sqrt(dt)*z[0])\n",
    "            \n",
    "            S2= S2*np.exp( (mu[1]+0.5*sig[1]**2)*dt+ sig[1]*np.sqrt(dt)*z[1])\n",
    "            \n",
    "            S3=S3*np.exp( (mu[2]+0.5*sig[2]**2)*dt+ sig[2]*np.sqrt(dt)*z[2])\n",
    "            \n",
    "            \n",
    "            if S2>max2:\n",
    "                \n",
    "                max2=S2\n",
    "            else:\n",
    "                \n",
    "                max2=max2\n",
    "                \n",
    "                \n",
    "            if S3>max3:\n",
    "                \n",
    "                max3=S3\n",
    "                \n",
    "            else:\n",
    "                \n",
    "                max3=max3\n",
    "            \n",
    "            \n",
    "            \n",
    "            \n",
    "            \n",
    "            \n",
    "        if max2> max3:\n",
    "                \n",
    "            indic=1\n",
    "        else:\n",
    "                \n",
    "            indic=0\n",
    "                \n",
    "        \n",
    "        \n",
    "        \n",
    "        Ut= a[0]*S1+ a[1]*S2+ a[2]*S3\n",
    "        \n",
    "        \n",
    "        if indic==1:\n",
    "            \n",
    "            \n",
    "            payoff= disc*max(S2**2-K,0)\n",
    "        \n",
    "        elif indic==0 :\n",
    "            \n",
    "            \n",
    "            payoff= disc*max(Ut-K,0)\n",
    "        \n",
    "            \n",
    "        sum_C+= payoff\n",
    "        \n",
    "        \n",
    "    \n",
    "    value= sum_C/M\n",
    "    \n",
    "    return value\n",
    "            \n",
    "            \n",
    "            \n",
    "            \n",
    "       "
   ]
  },
  {
   "cell_type": "code",
   "execution_count": 85,
   "metadata": {},
   "outputs": [
    {
     "data": {
      "text/plain": [
       "9131.30610829641"
      ]
     },
     "execution_count": 85,
     "metadata": {},
     "output_type": "execute_result"
    }
   ],
   "source": [
    "exgbm_basket1(S0=S0,K=100,r=0.06,T=1,mu=mu,sig=sig,a=a,optype=\"c\",B=104,A=A,N=100,M=100)"
   ]
  },
  {
   "cell_type": "markdown",
   "metadata": {},
   "source": [
    "### (iii) & (iv)"
   ]
  },
  {
   "cell_type": "code",
   "execution_count": 86,
   "metadata": {},
   "outputs": [],
   "source": [
    "def exgbm_basket2(S0,K,r,T,mu,sig,a,optype,B,A,N,M):\n",
    "    \n",
    "    \n",
    "    dt=T/N\n",
    "    \n",
    "    L=cholesky(A)\n",
    "    \n",
    "    disc= np.exp(-r*T)\n",
    "    \n",
    "    sum_C=0\n",
    "    \n",
    "    #nudt= (r+0.5*sig**2)*dt\n",
    "    #sigsdt= sig*np.sqrt(dt)\n",
    "    \n",
    "    for i in range(M):\n",
    "        \n",
    "        \n",
    "        S1= S0[0]\n",
    "        \n",
    "        S2= S0[1]\n",
    "        \n",
    "        S3= S0[2]\n",
    "        \n",
    "        indic=0\n",
    "    \n",
    "        sumS2=0\n",
    "        sumS3=0\n",
    "    \n",
    "        \n",
    "        for j in range(N):\n",
    "            \n",
    "            \n",
    "            #nudt= (r-div- 0.5*sig**2)*dt\n",
    "            #sigsdt= sig*np.sqrt(dt)\n",
    "            \n",
    "            \n",
    "\n",
    "            \n",
    "            row_z=np.random.normal(0,1,3)\n",
    "            \n",
    "            z= np.dot(L,row_z)\n",
    "            \n",
    "            S1= S1*np.exp( (mu[0]+0.5*sig[0]**2)*dt+ sig[0]*np.sqrt(dt)*z[0])\n",
    "            \n",
    "            S2= S2*np.exp( (mu[1]+0.5*sig[1]**2)*dt+ sig[1]*np.sqrt(dt)*z[1])\n",
    "            \n",
    "            S3=S3*np.exp( (mu[2]+0.5*sig[2]**2)*dt+ sig[2]*np.sqrt(dt)*z[2])\n",
    "            \n",
    "            \n",
    "            \n",
    "            sumS2+=S2\n",
    "            \n",
    "            sumS3+=S3\n",
    "            \n",
    "            \n",
    "            \n",
    "        A2= sumS2/N\n",
    "        \n",
    "        A3= sumS3/N\n",
    "        \n",
    "        if A2>A3:\n",
    "            \n",
    "            indic=1\n",
    "            \n",
    "        else:\n",
    "            \n",
    "            indic=0\n",
    "            \n",
    "        \n",
    "        \n",
    "        \n",
    "        Ut= a[0]*S1+ a[1]*S2+ a[2]*S3\n",
    "        \n",
    "        \n",
    "        if indic==1:\n",
    "            \n",
    "            \n",
    "            payoff= disc*max(A2-K,0)\n",
    "        \n",
    "        elif indic==0 :\n",
    "            \n",
    "            \n",
    "            payoff= disc*max(Ut-K,0)\n",
    "        \n",
    "            \n",
    "        sum_C+= payoff\n",
    "        \n",
    "        \n",
    "    \n",
    "    value= sum_C/M\n",
    "    \n",
    "    return value\n",
    "            \n",
    "            \n",
    "            \n",
    "            \n",
    "       "
   ]
  },
  {
   "cell_type": "code",
   "execution_count": 87,
   "metadata": {},
   "outputs": [
    {
     "data": {
      "text/plain": [
       "8.7660945324578"
      ]
     },
     "execution_count": 87,
     "metadata": {},
     "output_type": "execute_result"
    }
   ],
   "source": [
    "exgbm_basket2(S0=S0,K=100,r=0.06,T=1,mu=mu,sig=sig,a=a,optype=\"c\",B=104,A=A,N=100,M=100)"
   ]
  },
  {
   "cell_type": "markdown",
   "metadata": {},
   "source": [
    "#  Problem 4 "
   ]
  },
  {
   "cell_type": "markdown",
   "metadata": {},
   "source": [
    "## (a)"
   ]
  },
  {
   "cell_type": "code",
   "execution_count": 88,
   "metadata": {},
   "outputs": [],
   "source": [
    "\n",
    "def Monte_Carlo8(n_,m_,T,S0,V0,k,theta,sig,rho,r,K,f1,f2,f3):\n",
    "    start = time.time()\n",
    "    dt = T/n_\n",
    "    dis = np.exp(-r*T)\n",
    "    sum_C = 0\n",
    "    sum_C2 = 0\n",
    "    for i in range(int(m_)):\n",
    "        lnSt = np.log(S0)\n",
    "        Vtt = V0\n",
    "        Vt = V0\n",
    "        for j in range(int(n_)):\n",
    "            z1 = np.random.randn()\n",
    "            z2 = np.random.randn()\n",
    "            w1 = z1\n",
    "            w2 = rho*z1+np.sqrt(1-rho**2)*z2\n",
    "            Vtt = f1(Vtt)-k*dt*(f2(Vtt)-theta)+sig*f3(Vtt)**0.5*w1*np.sqrt(dt)\n",
    "            lnSt += (r-0.5*Vt)*dt+np.sqrt(Vt)*w2*np.sqrt(dt)\n",
    "            Vt = f3(Vtt)\n",
    "        St = np.exp(lnSt)\n",
    "        C = dis*max(St-K,0)\n",
    "        sum_C += C\n",
    "        sum_C2+= C**2\n",
    "    mean_C = sum_C/m_\n",
    "    bias = abs(6.8061-mean_C)\n",
    "    se = np.sqrt((sum_C2-m_*mean_C**2)/(m_-1)/m_)\n",
    "    end = time.time()\n",
    "    return mean_C, bias, se, (end-start)\n",
    "\n",
    "def fa(x):\n",
    "    return max(x,0)\n",
    "def fb(x):\n",
    "    return abs(x)\n",
    "def fc(x):\n",
    "    return x"
   ]
  },
  {
   "cell_type": "code",
   "execution_count": 89,
   "metadata": {},
   "outputs": [
    {
     "data": {
      "text/plain": [
       "(6.1044497330434115,\n",
       " 0.7016502669565883,\n",
       " 0.7587362593289545,\n",
       " 0.8396680355072021)"
      ]
     },
     "execution_count": 89,
     "metadata": {},
     "output_type": "execute_result"
    }
   ],
   "source": [
    "\n",
    "Monte_Carlo8(n_=1000,m_=100,T=1,S0=100,V0=0.010201,\n",
    "             k=6.21,theta=0.019,sig=0.61,rho=-0.7,r=0.0319,\n",
    "             K=100,f1=fa,f2=fa,f3=fa)"
   ]
  },
  {
   "cell_type": "code",
   "execution_count": 90,
   "metadata": {},
   "outputs": [
    {
     "data": {
      "text/plain": [
       "(7.3252737683098825,\n",
       " 0.5191737683098827,\n",
       " 0.3551039754424081,\n",
       " 0.3923211097717285)"
      ]
     },
     "execution_count": 90,
     "metadata": {},
     "output_type": "execute_result"
    }
   ],
   "source": [
    "Monte_Carlo8(n_=100,m_=500,T=1,S0=100,V0=0.010201,\n",
    "             k=6.21,theta=0.019,sig=0.61,rho=-0.7,r=0.0319,\n",
    "             K=100,f1=fb,f2=fb,f3=fb)\n"
   ]
  },
  {
   "cell_type": "code",
   "execution_count": 91,
   "metadata": {},
   "outputs": [
    {
     "data": {
      "text/plain": [
       "(7.02392340535475,\n",
       " 0.21782340535474987,\n",
       " 0.35291666508380937,\n",
       " 0.3840038776397705)"
      ]
     },
     "execution_count": 91,
     "metadata": {},
     "output_type": "execute_result"
    }
   ],
   "source": [
    "\n",
    "Monte_Carlo8(n_=100,m_=500,T=1,S0=100,V0=0.010201,\n",
    "             k=6.21,theta=0.019,sig=0.61,rho=-0.7,r=0.0319,\n",
    "             K=100,f1=fc,f2=fc,f3=fb)\n"
   ]
  },
  {
   "cell_type": "code",
   "execution_count": 92,
   "metadata": {},
   "outputs": [
    {
     "data": {
      "text/plain": [
       "(7.035748224270574, 0.22964822427057374, 0.8174595162274783, 0.784987211227417)"
      ]
     },
     "execution_count": 92,
     "metadata": {},
     "output_type": "execute_result"
    }
   ],
   "source": [
    "Monte_Carlo8(n_=1000,m_=100,T=1,S0=100,V0=0.010201,\n",
    "             k=6.21,theta=0.019,sig=0.61,rho=-0.7,r=0.0319,\n",
    "             K=100,f1=fc,f2=fc,f3=fa)"
   ]
  },
  {
   "cell_type": "code",
   "execution_count": 93,
   "metadata": {},
   "outputs": [
    {
     "data": {
      "text/plain": [
       "(7.269970379439593, 0.4638703794395935, 0.7677858645423148, 0.8132710456848145)"
      ]
     },
     "execution_count": 93,
     "metadata": {},
     "output_type": "execute_result"
    }
   ],
   "source": [
    "\n",
    "Monte_Carlo8(n_=1000,m_=100,T=1,S0=100,V0=0.010201,\n",
    "             k=6.21,theta=0.019,sig=0.61,rho=-0.7,r=0.0319,\n",
    "             K=100,f1=fc,f2=fa,f3=fa)\n"
   ]
  },
  {
   "cell_type": "markdown",
   "metadata": {},
   "source": [
    "## (b)"
   ]
  },
  {
   "cell_type": "code",
   "execution_count": 94,
   "metadata": {},
   "outputs": [],
   "source": [
    "\n",
    "def simpson_int(func,a,b,tol):\n",
    "    n=10000\n",
    "    delta = (b-a)/n\n",
    "    x = np.linspace(a,b,n+1)\n",
    "    f_x = np.asarray([func(i) for i in x])\n",
    "    res0 = 0\n",
    "    res1 = delta/3*(f_x[0]+f_x[-1]+4*f_x[1:-1][::2].sum()+2*f_x[1:-1][1::2].sum())\n",
    "    while abs(res1-res0)>tol:\n",
    "        n= n + 10000\n",
    "        x = np.linspace(a,b,n+1)\n",
    "        f_x = np.asarray([func(i) for i in x])\n",
    "        delta = (b-a)/n\n",
    "        res0 = res1\n",
    "        res1 = delta/3*(f_x[0]+f_x[-1]+4*f_x[1:-1][::2].sum()+2*f_x[1:-1][1::2].sum())\n",
    "    return res1"
   ]
  },
  {
   "cell_type": "code",
   "execution_count": 95,
   "metadata": {},
   "outputs": [
    {
     "data": {
      "text/plain": [
       "333333.3333333334"
      ]
     },
     "execution_count": 95,
     "metadata": {},
     "output_type": "execute_result"
    }
   ],
   "source": [
    "simpson_int(func=(lambda x: x**2),a=0,b=100,tol=0.00001)"
   ]
  },
  {
   "cell_type": "code",
   "execution_count": 96,
   "metadata": {},
   "outputs": [],
   "source": [
    "\n",
    "import scipy.integrate as integrate\n",
    "def C_integral(tau,S0,V0,k,theta,sig,rho,r,K):\n",
    "    u1 = 0.5\n",
    "    u2 = -0.5\n",
    "    a = k*theta\n",
    "    b1 = k-rho*sig\n",
    "    b2 = k\n",
    "    \n",
    "    def f1(u):\n",
    "        com = np.complex(b1,-rho*sig*u)\n",
    "        d1 = np.sqrt((-com)**2-sig**2*(np.complex(0,2*u1*u)-u**2))\n",
    "        g1 = (com+d1)/(com-d1)\n",
    "        C1 = np.complex(0,r*u*tau)+a/sig**2*((com+d1)*tau-2*np.log((1-g1*np.exp(d1*tau))/(1-g1)))\n",
    "        D1 = (com+d1)/sig**2*((1-np.exp(d1*tau))/(1-g1*np.exp(d1*tau)))\n",
    "        phi1 = np.exp(C1+D1*V0+np.complex(0,u*np.log(S0)))\n",
    "        res = ((np.exp(np.complex(0,-np.log(K)*u))*phi1)/(np.complex(0,u))).real\n",
    "        return res\n",
    "    def f2(u):\n",
    "        com = np.complex(b2,-rho*sig*u)\n",
    "        d2 = np.sqrt((-com)**2-sig**2*(np.complex(0,2*u2*u)-u**2))\n",
    "        g2 = (com+d2)/(com-d2)\n",
    "        C2 = np.complex(0,r*u*tau)+a/sig**2*((com+d2)*tau-2*np.log((1-g2*np.exp(d2*tau))/(1-g2)))\n",
    "        D2 = (com+d2)/sig**2*((1-np.exp(d2*tau))/(1-g2*np.exp(d2*tau)))\n",
    "        phi2 = np.exp(C2+D2*V0+np.complex(0,u*np.log(S0)))\n",
    "        res = ((np.exp(np.complex(0,-np.log(K)*u))*phi2)/(np.complex(0,u))).real\n",
    "        return res\n",
    "    P1 = 0.5+integrate.quad(f1,0.0001,1500)[0]/np.pi\n",
    "    P2 = 0.5+integrate.quad(f2,0.0001,1500)[0]/np.pi\n",
    "    result = S0*P1-K*np.exp(-r*tau)*P2\n",
    "    return result\n"
   ]
  },
  {
   "cell_type": "code",
   "execution_count": 97,
   "metadata": {},
   "outputs": [
    {
     "data": {
      "text/plain": [
       "8.472087268998855"
      ]
     },
     "execution_count": 97,
     "metadata": {},
     "output_type": "execute_result"
    }
   ],
   "source": [
    "\n",
    "C_integral(tau=1,S0=100,V0=0.010201,\n",
    "             k=6.21,theta=0.019,sig=0.61,rho=-0.7,r=0.0319,\n",
    "             K=100)"
   ]
  },
  {
   "cell_type": "markdown",
   "metadata": {},
   "source": [
    "- Comparing to values in a and b, the results are similar with given paramaters:\n",
    "tau=1\n",
    "S0=100\n",
    "V0=0.010201\n",
    "k=6.21\n",
    "theta=0.019\n",
    "sig=0.61\n",
    "rho=-0.7\n",
    "r=0.0319\n",
    "K=100\n"
   ]
  },
  {
   "cell_type": "code",
   "execution_count": null,
   "metadata": {},
   "outputs": [],
   "source": []
  }
 ],
 "metadata": {
  "kernelspec": {
   "display_name": "Python 3",
   "language": "python",
   "name": "python3"
  },
  "language_info": {
   "codemirror_mode": {
    "name": "ipython",
    "version": 3
   },
   "file_extension": ".py",
   "mimetype": "text/x-python",
   "name": "python",
   "nbconvert_exporter": "python",
   "pygments_lexer": "ipython3",
   "version": "3.8.5"
  }
 },
 "nbformat": 4,
 "nbformat_minor": 4
}
